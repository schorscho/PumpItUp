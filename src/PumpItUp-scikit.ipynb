{
 "cells": [
  {
   "cell_type": "markdown",
   "metadata": {},
   "source": [
    "Pump it Up: Data Mining the Water Table"
   ]
  },
  {
   "cell_type": "markdown",
   "metadata": {},
   "source": [
    "http://www.drivendata.org/competitions/7/pump-it-up-data-mining-the-water-table/\n",
    "\n",
    "The metric used for this competition is the classification rate, which calculates the percentage of rows where the predicted class ŷ \n",
    " in the submission matches the actual class, y\n",
    " in the test set. The maximum is 1 and the minimum is 0. The goal is to maximize the classification rate."
   ]
  },
  {
   "cell_type": "markdown",
   "metadata": {},
   "source": [
    "Setup"
   ]
  },
  {
   "cell_type": "markdown",
   "metadata": {},
   "source": [
    "First, let's make sure this notebook works well in both python 2 and 3, import a few common modules, ensure MatplotLib plots figures inline and prepare a function to save the figures:"
   ]
  },
  {
   "cell_type": "code",
   "execution_count": null,
   "metadata": {
    "collapsed": true
   },
   "outputs": [],
   "source": [
    "# To support both python 2 and python 3\n",
    "from __future__ import division, print_function, unicode_literals\n",
    "\n",
    "# Common imports\n",
    "import numpy as np\n",
    "import os\n",
    "\n",
    "# to make this notebook's output stable across runs\n",
    "np.random.seed(42)\n",
    "\n",
    "# To plot pretty figures\n",
    "%matplotlib inline\n",
    "\n",
    "import matplotlib\n",
    "import matplotlib.pyplot as plt\n",
    "\n",
    "plt.rcParams['axes.labelsize']  = 14\n",
    "plt.rcParams['xtick.labelsize'] = 12\n",
    "plt.rcParams['ytick.labelsize'] = 12\n",
    "\n",
    "# Where to save the figures\n",
    "PROJECT_ROOT_DIR = \"/Users/gopora/MyStuff/Dev/Workspaces/PumpItUp\"\n",
    "IMAGES_DIR       = os.path.join(PROJECT_ROOT_DIR, \"images\")\n",
    "\n",
    "def save_fig(fig_id, tight_layout = True):\n",
    "    if not os.path.isdir(IMAGES_DIR):\n",
    "        os.makedirs(IMAGES_DIR)\n",
    "\n",
    "    path = os.path.join(IMAGES_DIR, fig_id + \".png\")\n",
    "\n",
    "    print(\"Saving figure ...\", fig_id)\n",
    "    \n",
    "    if tight_layout:\n",
    "        plt.tight_layout()\n",
    "    \n",
    "    plt.savefig(path, format = 'png', dpi = 300)"
   ]
  },
  {
   "cell_type": "markdown",
   "metadata": {},
   "source": [
    "Get the data"
   ]
  },
  {
   "cell_type": "code",
   "execution_count": 2,
   "metadata": {
    "collapsed": true
   },
   "outputs": [],
   "source": [
    "from six.moves import urllib\n",
    "\n",
    "DATASETS_DIR        = os.path.join(PROJECT_ROOT_DIR, \"datasets\")\n",
    "TRAINING_SET_VALUES = \"pump_it_up_training_set_values.csv\"\n",
    "TRAINING_SET_LABELS = \"pump_it_up_training_set_labels.csv\"\n",
    "TEST_SET_VALUES     = \"pump_it_up_test_set_values.csv\"\n",
    "\n",
    "def fetch_pump_it_up_data():\n",
    "    if not os.path.isdir(DATASETS_DIR):\n",
    "        os.makedirs(DATASETS_DIR)\n",
    "        \n",
    "    print(\"Fetching training set values ...\")\n",
    "\n",
    "    root_url  = \"https://s3.amazonaws.com/drivendata/data/7/public/\"\n",
    "    file_url  = root_url + \"4910797b-ee55-40a7-8668-10efd5c1b960.csv\"\n",
    "    file_path = os.path.join(DATASETS_DIR, TRAINING_SET_VALUES)\n",
    "\n",
    "    urllib.request.urlretrieve(file_url, file_path)\n",
    "    \n",
    "    print(\"Fetching training set labels ...\")\n",
    "\n",
    "    file_url  = root_url + \"0bf8bc6e-30d0-4c50-956a-603fc693d966.csv\"\n",
    "    file_path = os.path.join(DATASETS_DIR, TRAINING_SET_LABELS)\n",
    "\n",
    "    urllib.request.urlretrieve(file_url, file_path)\n",
    "\n",
    "    print(\"Fetching test set values ...\")\n",
    "\n",
    "    file_url  = root_url + \"702ddfc5-68cd-4d1d-a0de-f5f566f76d91.csv\"\n",
    "    file_path = os.path.join(DATASETS_DIR, TEST_SET_VALUES)\n",
    "\n",
    "    urllib.request.urlretrieve(file_url, file_path)"
   ]
  },
  {
   "cell_type": "code",
   "execution_count": 3,
   "metadata": {},
   "outputs": [
    {
     "name": "stdout",
     "output_type": "stream",
     "text": [
      "Fetching training set values ...\n",
      "Fetching training set labels ...\n",
      "Fetching test set values ...\n"
     ]
    }
   ],
   "source": [
    "fetch_pump_it_up_data()"
   ]
  },
  {
   "cell_type": "code",
   "execution_count": 4,
   "metadata": {
    "collapsed": true
   },
   "outputs": [],
   "source": [
    "import pandas as pd\n",
    "\n",
    "def load_pump_it_up_training_set_values():\n",
    "    return pd.read_csv(os.path.join(DATASETS_DIR, TRAINING_SET_VALUES))\n",
    "\n",
    "def load_pump_it_up_training_set_labels():\n",
    "    return pd.read_csv(os.path.join(DATASETS_DIR, TRAINING_SET_LABELS))\n",
    "\n",
    "def load_pump_it_up_test_set_values():\n",
    "    return pd.read_csv(os.path.join(DATASETS_DIR, TEST_SET_VALUES))"
   ]
  },
  {
   "cell_type": "code",
   "execution_count": 5,
   "metadata": {
    "collapsed": true
   },
   "outputs": [],
   "source": [
    "trsv = load_pump_it_up_training_set_values()\n",
    "trsl = load_pump_it_up_training_set_labels()\n",
    "tesv = load_pump_it_up_test_set_values()"
   ]
  },
  {
   "cell_type": "code",
   "execution_count": 6,
   "metadata": {
    "scrolled": true
   },
   "outputs": [],
   "source": [
    "trs = pd.merge(trsv, trsl, on='id', how='left')"
   ]
  },
  {
   "cell_type": "code",
   "execution_count": 7,
   "metadata": {
    "scrolled": true
   },
   "outputs": [
    {
     "data": {
      "text/plain": [
       "<matplotlib.axes._subplots.AxesSubplot at 0x11747e6d8>"
      ]
     },
     "execution_count": 7,
     "metadata": {},
     "output_type": "execute_result"
    },
    {
     "data": {
      "image/png": "[encoded data removed]",
      "text/plain": [
       "<matplotlib.figure.Figure at 0x117601f28>"
      ]
     },
     "metadata": {},
     "output_type": "display_data"
    }
   ],
   "source": [
    "trs[trs.longitude > 25].plot(kind=\"scatter\", x=\"longitude\", y=\"latitude\")"
   ]
  },
  {
   "cell_type": "code",
   "execution_count": 8,
   "metadata": {},
   "outputs": [
    {
     "name": "stdout",
     "output_type": "stream",
     "text": [
      "<class 'pandas.core.frame.DataFrame'>\n",
      "Int64Index: 59400 entries, 0 to 59399\n",
      "Data columns (total 41 columns):\n",
      "id                       59400 non-null int64\n",
      "amount_tsh               59400 non-null float64\n",
      "date_recorded            59400 non-null object\n",
      "funder                   55765 non-null object\n",
      "gps_height               59400 non-null int64\n",
      "installer                55745 non-null object\n",
      "longitude                59400 non-null float64\n",
      "latitude                 59400 non-null float64\n",
      "wpt_name                 59400 non-null object\n",
      "num_private              59400 non-null int64\n",
      "basin                    59400 non-null object\n",
      "subvillage               59029 non-null object\n",
      "region                   59400 non-null object\n",
      "region_code              59400 non-null int64\n",
      "district_code            59400 non-null int64\n",
      "lga                      59400 non-null object\n",
      "ward                     59400 non-null object\n",
      "population               59400 non-null int64\n",
      "public_meeting           56066 non-null object\n",
      "recorded_by              59400 non-null object\n",
      "scheme_management        55523 non-null object\n",
      "scheme_name              31234 non-null object\n",
      "permit                   56344 non-null object\n",
      "construction_year        59400 non-null int64\n",
      "extraction_type          59400 non-null object\n",
      "extraction_type_group    59400 non-null object\n",
      "extraction_type_class    59400 non-null object\n",
      "management               59400 non-null object\n",
      "management_group         59400 non-null object\n",
      "payment                  59400 non-null object\n",
      "payment_type             59400 non-null object\n",
      "water_quality            59400 non-null object\n",
      "quality_group            59400 non-null object\n",
      "quantity                 59400 non-null object\n",
      "quantity_group           59400 non-null object\n",
      "source                   59400 non-null object\n",
      "source_type              59400 non-null object\n",
      "source_class             59400 non-null object\n",
      "waterpoint_type          59400 non-null object\n",
      "waterpoint_type_group    59400 non-null object\n",
      "status_group             59400 non-null object\n",
      "dtypes: float64(3), int64(7), object(31)\n",
      "memory usage: 19.0+ MB\n"
     ]
    }
   ],
   "source": [
    "#trs.info().to_csv(os.path.join(DATASETS_DIR, \"columns.csv\"))\n",
    "trs.info(verbose=True, buf=None, max_cols=None, memory_usage=None, null_counts=None)\n"
   ]
  },
  {
   "cell_type": "code",
   "execution_count": 9,
   "metadata": {},
   "outputs": [
    {
     "data": {
      "text/plain": [
       "Government Of Tanzania           9084\n",
       "Danida                           3114\n",
       "Hesawa                           2202\n",
       "Rwssp                            1374\n",
       "World Bank                       1349\n",
       "Kkkt                             1287\n",
       "World Vision                     1246\n",
       "Unicef                           1057\n",
       "Tasaf                             877\n",
       "District Council                  843\n",
       "Dhv                               829\n",
       "Private Individual                826\n",
       "Dwsp                              811\n",
       "0                                 777\n",
       "Norad                             765\n",
       "Germany Republi                   610\n",
       "Tcrs                              602\n",
       "Ministry Of Water                 590\n",
       "Water                             583\n",
       "Dwe                               484\n",
       "Netherlands                       470\n",
       "Hifab                             450\n",
       "Adb                               448\n",
       "Lga                               442\n",
       "Amref                             425\n",
       "Fini Water                        393\n",
       "Oxfam                             359\n",
       "Wateraid                          333\n",
       "Rc Church                         321\n",
       "Isf                               316\n",
       "                                 ... \n",
       "Tz As                               1\n",
       "Overnment                           1\n",
       "Government/school                   1\n",
       "Okutu Village Community             1\n",
       "Yasini                              1\n",
       "Iom                                 1\n",
       "Jacobin                             1\n",
       "Lions Club Kilimanjaro              1\n",
       "Mbeje                               1\n",
       "Semaki                              1\n",
       "Babtest                             1\n",
       "Batist Church                       1\n",
       "Ruangwa Lga                         1\n",
       "Sobodo                              1\n",
       "Hesawa And Concern World Wide       1\n",
       "Kilimo                              1\n",
       "Huches                              1\n",
       "Madaraweshi                         1\n",
       "Nipon & Panoco                      1\n",
       "Frankfurt                           1\n",
       "Morad                               1\n",
       "One Desk One Chair                  1\n",
       "Pentecost                           1\n",
       "Abdul                               1\n",
       "Church Of Disciples                 1\n",
       "Eung-am Methodist Church            1\n",
       "Salamu Kita                         1\n",
       "Kkkt Mareu                          1\n",
       "Marumbo Community                   1\n",
       "John Gileth                         1\n",
       "Name: funder, Length: 1897, dtype: int64"
      ]
     },
     "execution_count": 9,
     "metadata": {},
     "output_type": "execute_result"
    }
   ],
   "source": [
    "trs[\"funder\"].value_counts()"
   ]
  },
  {
   "cell_type": "code",
   "execution_count": 16,
   "metadata": {},
   "outputs": [
    {
     "data": {
      "text/html": [
       "<div>\n",
       "<style>\n",
       "    .dataframe thead tr:only-child th {\n",
       "        text-align: right;\n",
       "    }\n",
       "\n",
       "    .dataframe thead th {\n",
       "        text-align: left;\n",
       "    }\n",
       "\n",
       "    .dataframe tbody tr th {\n",
       "        vertical-align: top;\n",
       "    }\n",
       "</style>\n",
       "<table border=\"1\" class=\"dataframe\">\n",
       "  <thead>\n",
       "    <tr style=\"text-align: right;\">\n",
       "      <th></th>\n",
       "      <th>id</th>\n",
       "      <th>amount_tsh</th>\n",
       "      <th>date_recorded</th>\n",
       "      <th>funder</th>\n",
       "      <th>gps_height</th>\n",
       "      <th>installer</th>\n",
       "      <th>longitude</th>\n",
       "      <th>latitude</th>\n",
       "      <th>wpt_name</th>\n",
       "      <th>num_private</th>\n",
       "      <th>...</th>\n",
       "      <th>water_quality</th>\n",
       "      <th>quality_group</th>\n",
       "      <th>quantity</th>\n",
       "      <th>quantity_group</th>\n",
       "      <th>source</th>\n",
       "      <th>source_type</th>\n",
       "      <th>source_class</th>\n",
       "      <th>waterpoint_type</th>\n",
       "      <th>waterpoint_type_group</th>\n",
       "      <th>status_group</th>\n",
       "    </tr>\n",
       "  </thead>\n",
       "  <tbody>\n",
       "  </tbody>\n",
       "</table>\n",
       "<p>0 rows × 41 columns</p>\n",
       "</div>"
      ],
      "text/plain": [
       "Empty DataFrame\n",
       "Columns: [id, amount_tsh, date_recorded, funder, gps_height, installer, longitude, latitude, wpt_name, num_private, basin, subvillage, region, region_code, district_code, lga, ward, population, public_meeting, recorded_by, scheme_management, scheme_name, permit, construction_year, extraction_type, extraction_type_group, extraction_type_class, management, management_group, payment, payment_type, water_quality, quality_group, quantity, quantity_group, source, source_type, source_class, waterpoint_type, waterpoint_type_group, status_group]\n",
       "Index: []\n",
       "\n",
       "[0 rows x 41 columns]"
      ]
     },
     "execution_count": 16,
     "metadata": {},
     "output_type": "execute_result"
    }
   ],
   "source": [
    "trs[trs[\"funder\"] == np.NaN]"
   ]
  },
  {
   "cell_type": "code",
   "execution_count": 28,
   "metadata": {},
   "outputs": [
    {
     "data": {
      "text/plain": [
       "Government Of Tanzania         9084\n",
       "_other                         3635\n",
       "Danida                         3114\n",
       "Hesawa                         2202\n",
       "Rwssp                          1374\n",
       "World Bank                     1349\n",
       "Kkkt                           1287\n",
       "World Vision                   1246\n",
       "Unicef                         1057\n",
       "Tasaf                           877\n",
       "District Council                843\n",
       "Dhv                             829\n",
       "Private Individual              826\n",
       "Dwsp                            811\n",
       "0                               777\n",
       "Norad                           765\n",
       "Germany Republi                 610\n",
       "Tcrs                            602\n",
       "Ministry Of Water               590\n",
       "Water                           583\n",
       "Dwe                             484\n",
       "Netherlands                     470\n",
       "Hifab                           450\n",
       "Adb                             448\n",
       "Lga                             442\n",
       "Amref                           425\n",
       "Fini Water                      393\n",
       "Oxfam                           359\n",
       "Wateraid                        333\n",
       "Rc Church                       321\n",
       "                               ... \n",
       "Simav                             1\n",
       "Nyitamboka                        1\n",
       "Lake Tanganyika Prodap            1\n",
       "Kando                             1\n",
       "Kilol                             1\n",
       "Karadea Ngo                       1\n",
       "Sagaswe                           1\n",
       "Italian                           1\n",
       "Nmdc India                        1\n",
       "Rajabu Athumani                   1\n",
       "Jeshi Lawokovu                    1\n",
       "Wbk                               1\n",
       "Petro Patrice                     1\n",
       "Mgaya                             1\n",
       "Cdft                              1\n",
       "Nginila                           1\n",
       "Craelius                          1\n",
       "Nerthlands                        1\n",
       "Boazi /o                          1\n",
       "Lottery                           1\n",
       "Selestine Mganga                  1\n",
       "Unice/ Cspd                       1\n",
       "Kibara Foundation                 1\n",
       "Long Ga                           1\n",
       "Raurensia                         1\n",
       "Ramadhani M. Mvugalo              1\n",
       "Embasy Of Japan In Tanzania       1\n",
       "Samweli Kitana                    1\n",
       "Scholastica Pankrasi              1\n",
       "Quicklw                           1\n",
       "Name: funder, Length: 1898, dtype: int64"
      ]
     },
     "execution_count": 28,
     "metadata": {},
     "output_type": "execute_result"
    }
   ],
   "source": [
    "trs[\"funder\"].fillna(\"_other\", inplace=True)\n",
    "trs[\"funder\"].value_counts()"
   ]
  },
  {
   "cell_type": "code",
   "execution_count": 29,
   "metadata": {},
   "outputs": [
    {
     "data": {
      "text/html": [
       "<div>\n",
       "<style>\n",
       "    .dataframe thead tr:only-child th {\n",
       "        text-align: right;\n",
       "    }\n",
       "\n",
       "    .dataframe thead th {\n",
       "        text-align: left;\n",
       "    }\n",
       "\n",
       "    .dataframe tbody tr th {\n",
       "        vertical-align: top;\n",
       "    }\n",
       "</style>\n",
       "<table border=\"1\" class=\"dataframe\">\n",
       "  <thead>\n",
       "    <tr style=\"text-align: right;\">\n",
       "      <th></th>\n",
       "      <th>id</th>\n",
       "      <th>amount_tsh</th>\n",
       "      <th>date_recorded</th>\n",
       "      <th>funder</th>\n",
       "      <th>gps_height</th>\n",
       "      <th>installer</th>\n",
       "      <th>longitude</th>\n",
       "      <th>latitude</th>\n",
       "      <th>wpt_name</th>\n",
       "      <th>num_private</th>\n",
       "      <th>...</th>\n",
       "      <th>water_quality</th>\n",
       "      <th>quality_group</th>\n",
       "      <th>quantity</th>\n",
       "      <th>quantity_group</th>\n",
       "      <th>source</th>\n",
       "      <th>source_type</th>\n",
       "      <th>source_class</th>\n",
       "      <th>waterpoint_type</th>\n",
       "      <th>waterpoint_type_group</th>\n",
       "      <th>status_group</th>\n",
       "    </tr>\n",
       "  </thead>\n",
       "  <tbody>\n",
       "  </tbody>\n",
       "</table>\n",
       "<p>0 rows × 41 columns</p>\n",
       "</div>"
      ],
      "text/plain": [
       "Empty DataFrame\n",
       "Columns: [id, amount_tsh, date_recorded, funder, gps_height, installer, longitude, latitude, wpt_name, num_private, basin, subvillage, region, region_code, district_code, lga, ward, population, public_meeting, recorded_by, scheme_management, scheme_name, permit, construction_year, extraction_type, extraction_type_group, extraction_type_class, management, management_group, payment, payment_type, water_quality, quality_group, quantity, quantity_group, source, source_type, source_class, waterpoint_type, waterpoint_type_group, status_group]\n",
       "Index: []\n",
       "\n",
       "[0 rows x 41 columns]"
      ]
     },
     "execution_count": 29,
     "metadata": {},
     "output_type": "execute_result"
    }
   ],
   "source": [
    "trs[trs[\"funder\"].isnull()]"
   ]
  },
  {
   "cell_type": "code",
   "execution_count": 32,
   "metadata": {},
   "outputs": [
    {
     "data": {
      "text/plain": [
       "array([[0, 0, 0, ..., 0, 0, 0],\n",
       "       [0, 0, 0, ..., 0, 0, 0],\n",
       "       [0, 0, 0, ..., 0, 0, 0],\n",
       "       ..., \n",
       "       [0, 0, 0, ..., 0, 0, 1],\n",
       "       [0, 0, 0, ..., 0, 0, 0],\n",
       "       [0, 0, 0, ..., 0, 0, 0]])"
      ]
     },
     "execution_count": 32,
     "metadata": {},
     "output_type": "execute_result"
    }
   ],
   "source": [
    "from sklearn.preprocessing import LabelBinarizer\n",
    "\n",
    "encoder = LabelBinarizer()\n",
    "funder_cat = trs[\"funder\"]\n",
    "funder_cat_encoded = encoder.fit_transform(funder_cat)\n",
    "funder_cat_encoded"
   ]
  },
  {
   "cell_type": "code",
   "execution_count": 31,
   "metadata": {},
   "outputs": [
    {
     "name": "stdout",
     "output_type": "stream",
     "text": [
      "['0' 'A/co Germany' 'Aar' ..., 'Zinduka' 'Zingibali Secondary' '_other']\n"
     ]
    }
   ],
   "source": [
    "print(encoder.classes_)"
   ]
  },
  {
   "cell_type": "code",
   "execution_count": null,
   "metadata": {},
   "outputs": [],
   "source": [
    "trs.hist(bins=50, figsize=(20,15))"
   ]
  },
  {
   "cell_type": "code",
   "execution_count": null,
   "metadata": {},
   "outputs": [],
   "source": [
    "trs[\"region\"].value_counts()"
   ]
  },
  {
   "cell_type": "code",
   "execution_count": null,
   "metadata": {
    "collapsed": true
   },
   "outputs": [],
   "source": []
  }
 ],
 "metadata": {
  "kernelspec": {
   "display_name": "Python 3",
   "language": "python",
   "name": "python3"
  },
  "language_info": {
   "codemirror_mode": {
    "name": "ipython",
    "version": 3
   },
   "file_extension": ".py",
   "mimetype": "text/x-python",
   "name": "python",
   "nbconvert_exporter": "python",
   "pygments_lexer": "ipython3",
   "version": "3.6.1"
  }
 },
 "nbformat": 4,
 "nbformat_minor": 2
}
