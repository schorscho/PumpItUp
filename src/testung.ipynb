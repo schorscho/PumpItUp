{
 "cells": [
  {
   "cell_type": "code",
   "execution_count": 1,
   "metadata": {
    "collapsed": true
   },
   "outputs": [],
   "source": [
    "from pyspark import SparkContext\n",
    "from pyspark.sql import SparkSession\n",
    "from pyspark.ml import Pipeline\n",
    "from pyspark.ml.evaluation import MulticlassClassificationEvaluator\n",
    "from pyspark.ml.tuning import CrossValidator, ParamGridBuilder\n",
    "from pyspark.ml.classification import RandomForestClassifier\n",
    "from pyspark.ml.feature import IndexToString, StringIndexer, StandardScaler, VectorAssembler\n",
    "\n",
    "\n",
    "sc = SparkContext(\"local[3]\", \"test\")\n",
    "spark = SparkSession(sc)"
   ]
  },
  {
   "cell_type": "code",
   "execution_count": null,
   "metadata": {},
   "outputs": [],
   "source": [
    "import spark_functions\n",
    "\n",
    "df = spark_functions.load_data(spark)\n",
    "df_train, df_test = spark_functions.train_test_split(df)\n",
    "\n",
    "#pdf_train = df_train.toPandas()\n",
    "\n",
    "df_train.groupBy('extraction_type').count().collect()\n",
    "\n",
    "%matplotlib inline\n",
    "import matplotlib.pyplot as plt\n",
    "\n",
    "df.toPandas().hist(bins=50, figsize=(20,15))\n",
    "plt.show()"
   ]
  },
  {
   "cell_type": "code",
   "execution_count": 11,
   "metadata": {},
   "outputs": [
    {
     "data": {
      "text/plain": [
       "[Row(extraction_type_group='submersible', count=4916),\n Row(extraction_type_group='afridev', count=1395),\n Row(extraction_type_group='mono', count=2279),\n Row(extraction_type_group='nira/tanira', count=6531),\n Row(extraction_type_group='rope pump', count=357),\n Row(extraction_type_group='swn 80', count=2887),\n Row(extraction_type_group='other', count=5221),\n Row(extraction_type_group='india mark iii', count=77),\n Row(extraction_type_group='gravity', count=21492),\n Row(extraction_type_group='other motorpump', count=98),\n Row(extraction_type_group='wind-powered', count=90),\n Row(extraction_type_group='india mark ii', count=1900),\n Row(extraction_type_group='other handpump', count=313)]"
      ]
     },
     "execution_count": 11,
     "metadata": {},
     "output_type": "execute_result"
    }
   ],
   "source": [
    "df_train.groupBy('extraction_type_group').count().collect()"
   ]
  },
  {
   "cell_type": "code",
   "execution_count": 12,
   "metadata": {},
   "outputs": [
    {
     "data": {
      "text/plain": [
       "[Row(extraction_type_class='submersible', count=4916),\n Row(extraction_type_class='rope pump', count=357),\n Row(extraction_type_class='other', count=5221),\n Row(extraction_type_class='gravity', count=21492),\n Row(extraction_type_class='wind-powered', count=90),\n Row(extraction_type_class='motorpump', count=2377),\n Row(extraction_type_class='handpump', count=13103)]"
      ]
     },
     "execution_count": 12,
     "metadata": {},
     "output_type": "execute_result"
    }
   ],
   "source": [
    "df_train.groupBy('extraction_type_class').count().collect()"
   ]
  },
  {
   "cell_type": "code",
   "execution_count": 13,
   "metadata": {},
   "outputs": [
    {
     "data": {
      "text/plain": [
       "[Row(waterpoint_type='hand pump', count=13922),\n Row(waterpoint_type='communal standpipe', count=22895),\n Row(waterpoint_type='communal standpipe multiple', count=4868),\n Row(waterpoint_type='other', count=5157),\n Row(waterpoint_type='improved spring', count=610),\n Row(waterpoint_type='dam', count=6),\n Row(waterpoint_type='cattle trough', count=98)]"
      ]
     },
     "execution_count": 13,
     "metadata": {},
     "output_type": "execute_result"
    }
   ],
   "source": [
    "df_train.groupBy('waterpoint_type').count().collect()"
   ]
  },
  {
   "cell_type": "code",
   "execution_count": 14,
   "metadata": {},
   "outputs": [
    {
     "data": {
      "text/plain": [
       "[Row(waterpoint_type_group='hand pump', count=13922),\n Row(waterpoint_type_group='communal standpipe', count=27763),\n Row(waterpoint_type_group='other', count=5157),\n Row(waterpoint_type_group='improved spring', count=610),\n Row(waterpoint_type_group='dam', count=6),\n Row(waterpoint_type_group='cattle trough', count=98)]"
      ]
     },
     "execution_count": 14,
     "metadata": {},
     "output_type": "execute_result"
    }
   ],
   "source": [
    "df_train.groupBy('waterpoint_type_group').count().collect()"
   ]
  },
  {
   "cell_type": "code",
   "execution_count": null,
   "metadata": {},
   "outputs": [],
   "source": []
  }
 ],
 "metadata": {
  "kernelspec": {
   "display_name": "Python 2",
   "language": "python",
   "name": "python2"
  },
  "language_info": {
   "codemirror_mode": {
    "name": "ipython",
    "version": 2
   },
   "file_extension": ".py",
   "mimetype": "text/x-python",
   "name": "python",
   "nbconvert_exporter": "python",
   "pygments_lexer": "ipython2",
   "version": "2.7.6"
  }
 },
 "nbformat": 4,
 "nbformat_minor": 0
}
